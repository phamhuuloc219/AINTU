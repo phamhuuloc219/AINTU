{
  "nbformat": 4,
  "nbformat_minor": 0,
  "metadata": {
    "colab": {
      "provenance": [],
      "gpuType": "T4"
    },
    "kernelspec": {
      "name": "python3",
      "display_name": "Python 3"
    },
    "language_info": {
      "name": "python"
    },
    "accelerator": "GPU"
  },
  "cells": [
    {
      "cell_type": "markdown",
      "source": [
        "# Connect to Google Drive"
      ],
      "metadata": {
        "id": "oorN4_PV2n_p"
      }
    },
    {
      "cell_type": "code",
      "execution_count": null,
      "metadata": {
        "id": "zFuiVrutAvzT",
        "colab": {
          "base_uri": "https://localhost:8080/"
        },
        "outputId": "730ecc59-a51e-4eb7-cc6e-48a8e26fa1ad"
      },
      "outputs": [
        {
          "output_type": "stream",
          "name": "stdout",
          "text": [
            "Mounted at /content/drive\n"
          ]
        }
      ],
      "source": [
        "from google.colab import drive\n",
        "drive.mount('/content/drive')\n"
      ]
    },
    {
      "cell_type": "markdown",
      "source": [
        "# Navigate to Classification folder"
      ],
      "metadata": {
        "id": "esvuEwSMh5sl"
      }
    },
    {
      "cell_type": "code",
      "source": [
        "%%bash\n",
        "cd /content/drive/MyDrive/Classification\n",
        "pwd"
      ],
      "metadata": {
        "colab": {
          "base_uri": "https://localhost:8080/"
        },
        "id": "02_6prK7iAhU",
        "outputId": "16fce231-b9f6-4922-d6db-8fbed436720d"
      },
      "execution_count": null,
      "outputs": [
        {
          "output_type": "stream",
          "name": "stdout",
          "text": [
            "/content/drive/MyDrive/Classification\n"
          ]
        }
      ]
    },
    {
      "cell_type": "markdown",
      "source": [
        "# Install dependencies"
      ],
      "metadata": {
        "id": "KulmTG5FiQIz"
      }
    },
    {
      "cell_type": "code",
      "source": [
        "pip install torchmetrics"
      ],
      "metadata": {
        "colab": {
          "base_uri": "https://localhost:8080/"
        },
        "id": "E0KO9ZVpiTk_",
        "outputId": "300d9a6d-7883-49ba-d640-eb5c39e8353b"
      },
      "execution_count": null,
      "outputs": [
        {
          "output_type": "stream",
          "name": "stdout",
          "text": [
            "Collecting torchmetrics\n",
            "  Downloading torchmetrics-1.5.2-py3-none-any.whl.metadata (20 kB)\n",
            "Requirement already satisfied: numpy>1.20.0 in /usr/local/lib/python3.10/dist-packages (from torchmetrics) (1.26.4)\n",
            "Requirement already satisfied: packaging>17.1 in /usr/local/lib/python3.10/dist-packages (from torchmetrics) (24.1)\n",
            "Requirement already satisfied: torch>=1.10.0 in /usr/local/lib/python3.10/dist-packages (from torchmetrics) (2.5.0+cu121)\n",
            "Collecting lightning-utilities>=0.8.0 (from torchmetrics)\n",
            "  Downloading lightning_utilities-0.11.8-py3-none-any.whl.metadata (5.2 kB)\n",
            "Requirement already satisfied: setuptools in /usr/local/lib/python3.10/dist-packages (from lightning-utilities>=0.8.0->torchmetrics) (75.1.0)\n",
            "Requirement already satisfied: typing-extensions in /usr/local/lib/python3.10/dist-packages (from lightning-utilities>=0.8.0->torchmetrics) (4.12.2)\n",
            "Requirement already satisfied: filelock in /usr/local/lib/python3.10/dist-packages (from torch>=1.10.0->torchmetrics) (3.16.1)\n",
            "Requirement already satisfied: networkx in /usr/local/lib/python3.10/dist-packages (from torch>=1.10.0->torchmetrics) (3.4.2)\n",
            "Requirement already satisfied: jinja2 in /usr/local/lib/python3.10/dist-packages (from torch>=1.10.0->torchmetrics) (3.1.4)\n",
            "Requirement already satisfied: fsspec in /usr/local/lib/python3.10/dist-packages (from torch>=1.10.0->torchmetrics) (2024.10.0)\n",
            "Requirement already satisfied: sympy==1.13.1 in /usr/local/lib/python3.10/dist-packages (from torch>=1.10.0->torchmetrics) (1.13.1)\n",
            "Requirement already satisfied: mpmath<1.4,>=1.1.0 in /usr/local/lib/python3.10/dist-packages (from sympy==1.13.1->torch>=1.10.0->torchmetrics) (1.3.0)\n",
            "Requirement already satisfied: MarkupSafe>=2.0 in /usr/local/lib/python3.10/dist-packages (from jinja2->torch>=1.10.0->torchmetrics) (3.0.2)\n",
            "Downloading torchmetrics-1.5.2-py3-none-any.whl (891 kB)\n",
            "\u001b[2K   \u001b[90m━━━━━━━━━━━━━━━━━━━━━━━━━━━━━━━━━━━━━━━━\u001b[0m \u001b[32m891.4/891.4 kB\u001b[0m \u001b[31m45.8 MB/s\u001b[0m eta \u001b[36m0:00:00\u001b[0m\n",
            "\u001b[?25hDownloading lightning_utilities-0.11.8-py3-none-any.whl (26 kB)\n",
            "Installing collected packages: lightning-utilities, torchmetrics\n",
            "Successfully installed lightning-utilities-0.11.8 torchmetrics-1.5.2\n"
          ]
        }
      ]
    },
    {
      "cell_type": "markdown",
      "source": [
        "# Train Dataset"
      ],
      "metadata": {
        "id": "CXfjFV8_haue"
      }
    },
    {
      "cell_type": "code",
      "source": [
        "\"\"\"\n",
        "ThinhDV  11 Nov 2024\n",
        "How to train/fine-tune a pre-trained model on a custom dataset (i.e., transfer learning)\n",
        "\"\"\"\n",
        "import torch\n",
        "from torch import nn, save, load\n",
        "from tqdm import tqdm\n",
        "from torch.optim import Adam\n",
        "from torch.utils.data import DataLoader\n",
        "from torchvision.datasets import ImageFolder\n",
        "import torchvision.transforms as transforms\n",
        "from torchmetrics.functional import accuracy\n",
        "from torchvision.transforms import ToTensor, Resize\n",
        "import numpy as np\n",
        "\n",
        "from torch import nn\n",
        "\n",
        "# Image Classifier Neural Network\n",
        "class Alexnet(nn.Module):\n",
        "    def __init__(self,num_classes=100):\n",
        "        super(Alexnet, self).__init__()\n",
        "        self.model = nn.Sequential(\n",
        "            #### Convolutional Layers ####\n",
        "            #input: 224*224*3\n",
        "            # Layer 1:\n",
        "            nn.Conv2d(3, 96, kernel_size=(11, 11), stride=(4, 4)),  # Change 1 to 3 for RGB images: output = 32\n",
        "            #output: W = (224-11+2*0)/4 + 1=54, H = (224-11+2*0)/4 + 1=54\n",
        "            nn.ReLU(),  # output:96, W=H=54 do co cung chieu dai moi canh sau conv\n",
        "            nn.BatchNorm2d(96),\n",
        "            nn.MaxPool2d(2, 2),\n",
        "            # after pooling: ((W=H=54-kernel=2)/stride=2) + 1= 27; nn.Flatten(), nn.Linear(96*(27)*(27), 53),\n",
        "\n",
        "            # Layer 2\n",
        "            nn.Conv2d(96, 256, kernel_size=(5, 5), padding=(2, 2)),  # input: 96, output: 256\n",
        "            #output: W=(27 - 5 + 2 * 2) / 1 + 1 = 26, H=(27 - 5 + 2 * 2) / 1 + 1 = 26\n",
        "            nn.ReLU(),  # output:256, W=H=26 do co cung chieu dai moi canh sau conv\n",
        "            nn.BatchNorm2d(256),\n",
        "            nn.MaxPool2d(3, 2),\n",
        "            # after pooling: ((W=H=26-kernel=3)/stride=2)+1 = 12; nn.Flatten(), nn.Linear(256*(12)*(12), 53),\n",
        "\n",
        "            # Layer 3\n",
        "            nn.Conv2d(256, 384, kernel_size=(3, 3), padding=(1, 1)),  # input: 256, output: 384\n",
        "            # output: W=(12 - 3 + 2 * 1) / 1 + 1 = 12, W=(12 - 3 + 2 * 1) / 1 + 1 = 12\n",
        "            nn.ReLU(),  # output:384, W=H=12 do co cung chieu dai moi canh sau conv\n",
        "            nn.BatchNorm2d(384),\n",
        "\n",
        "            # Layer 4\n",
        "            nn.Conv2d(384, 384, kernel_size=(3, 3), padding=(1, 1)),  # input: 384, output: 384\n",
        "            # output: W=(12 - 3 + 2 * 1) / 1 + 1 = 12, W=(12 - 3 + 2 * 1) / 1 + 1 = 12\n",
        "            nn.ReLU(),  # output:384, W=H=12 do co cung chieu dai moi canh sau conv\n",
        "            nn.BatchNorm2d(384),\n",
        "\n",
        "            # Layer 5\n",
        "            nn.Conv2d(384, 256, kernel_size=(3, 3), padding=(1, 1)),  # input: 384, output: 256\n",
        "            # output: W=(12 - 3 + 2 * 1) / 1 + 1 = 12, W=(12 - 3 + 2 * 1) / 1 + 1 = 12\n",
        "            nn.ReLU(),  # output:256, W=H=12 do co cung chieu dai moi canh sau conv\n",
        "            nn.BatchNorm2d(256),\n",
        "            nn.MaxPool2d(3, 2),\n",
        "            # after pooling: ((W=H=12-kernel=3)/stride=2)+1 = 6; nn.Flatten(), nn.Linear(256*(6)*(6), 53),\n",
        "\n",
        "            #### Fully-Connected Layer ####\n",
        "            nn.Flatten(),\n",
        "            nn.Dropout(0.5),\n",
        "            nn.Linear(256*6 *6, num_classes), #tinh sao ra bang 6??????\n",
        "        )\n",
        "        #Truyen tham so vao\n",
        "        self.num_classes = num_classes\n",
        "\n",
        "    def forward(self, x):\n",
        "        return self.model(x)\n",
        "\n",
        "\n",
        "# Setup CUDA\n",
        "def setup_cuda():\n",
        "    # Setting seeds for reproducibility\n",
        "    seed = 50\n",
        "    torch.backends.cudnn.enabled = True\n",
        "    torch.backends.cudnn.benchmark = True\n",
        "    np.random.seed(seed)\n",
        "    torch.manual_seed(seed)\n",
        "    if torch.cuda.is_available():\n",
        "        torch.cuda.manual_seed(seed)\n",
        "\n",
        "    return torch.device('cuda:0' if torch.cuda.is_available() else 'cpu')\n",
        "\n",
        "\n",
        "def train_model():\n",
        "    \"\"\"\n",
        "    Train the model over a single epoch\n",
        "    :return: training loss and training accuracy\n",
        "    \"\"\"\n",
        "    train_loss = 0.0\n",
        "    train_acc = 0.0\n",
        "    model.train()\n",
        "\n",
        "    for (img, label) in tqdm(train_loader, ncols=80, desc='Training'):\n",
        "        # Get a batch\n",
        "        img, label = img.to(device, dtype=torch.float), label.to(device, dtype=torch.long)\n",
        "\n",
        "        # Set the gradients to zero before starting backpropagation\n",
        "        optimizer.zero_grad()\n",
        "\n",
        "        # Perform a feed-forward pass\n",
        "        logits = model(img)\n",
        "\n",
        "        # Compute the batch loss\n",
        "        loss = loss_fn(logits, label)\n",
        "\n",
        "        # Compute gradient of the loss fn w.r.t the trainable weights\n",
        "        loss.backward()\n",
        "\n",
        "        # Update the trainable weights\n",
        "        optimizer.step()\n",
        "\n",
        "        # Accumulate the batch loss\n",
        "        train_loss += loss.item()\n",
        "\n",
        "        # Get the predictions to calculate the accuracy for every iteration. Remember to accumulate the accuracy\n",
        "        prediction = logits.argmax(axis=1)\n",
        "        train_acc += accuracy(prediction, label, task='multiclass', average='macro', num_classes=len(class_names)).item()\n",
        "\n",
        "    return train_loss / len(train_loader), train_acc / len(train_loader)\n",
        "\n",
        "\n",
        "def validate_model():\n",
        "    \"\"\"\n",
        "    Validate the model over a single epoch\n",
        "    :return: validation loss and validation accuracy\n",
        "    \"\"\"\n",
        "    model.eval()\n",
        "    valid_loss = 0.0\n",
        "    val_acc = 0.0\n",
        "\n",
        "    with torch.no_grad():\n",
        "        for (img, label) in tqdm(val_loader, ncols=80, desc='Valid'):\n",
        "            # Get a batch\n",
        "            img, label = img.to(device, dtype=torch.float), label.to(device, dtype=torch.long)\n",
        "\n",
        "            # Perform a feed-forward pass\n",
        "            logits = model(img)\n",
        "\n",
        "            # Compute the batch loss\n",
        "            loss = loss_fn(logits, label)\n",
        "\n",
        "            # Accumulate the batch loss\n",
        "            valid_loss += loss.item()\n",
        "\n",
        "            # Get the predictions to calculate the accuracy for every iteration. Remember to accumulate the accuracy\n",
        "            prediction = logits.argmax(axis=1)\n",
        "            val_acc += accuracy(prediction, label, task='multiclass', average='macro', num_classes=len(class_names)).item()\n",
        "\n",
        "    return valid_loss / len(val_loader), val_acc / len(val_loader)\n",
        "\n",
        "\n",
        "if __name__ == \"__main__\":\n",
        "    device = setup_cuda()\n",
        "\n",
        "    # 1. Load the dataset\n",
        "    transform = transforms.Compose([Resize((224, 224)), ToTensor()])\n",
        "    train_dataset = ImageFolder(root='/content/drive/MyDrive/dataset/playcards/train', transform=transform)\n",
        "    val_dataset = ImageFolder(root='/content/drive/MyDrive/dataset/playcards/valid', transform=transform)\n",
        "    # Get class names\n",
        "    class_names = train_dataset.classes\n",
        "\n",
        "    # 2. Create data loaders\n",
        "    train_loader = DataLoader(train_dataset, batch_size=32, shuffle=True)\n",
        "    val_loader = DataLoader(val_dataset, batch_size=32, shuffle=True)\n",
        "\n",
        "    # 3. Create a new deep model with pre-trained weights\n",
        "    model = Alexnet(\n",
        "        num_classes=len(class_names),\n",
        "    ).to(device)\n",
        "\n",
        "    # 4. Specify loss function and optimizer\n",
        "    optimizer = Adam(model.parameters(), lr=1e-4)\n",
        "    loss_fn = torch.nn.CrossEntropyLoss()\n",
        "\n",
        "    # 5. Train the model with 100 epochs\n",
        "    max_acc = 0\n",
        "    for epoch in range(100):\n",
        "\n",
        "        # 5.1. Train the model over a single epoch\n",
        "        train_loss, train_acc = train_model()\n",
        "\n",
        "        # 5.2. Validate the model after training\n",
        "        val_loss, val_acc = validate_model()\n",
        "\n",
        "        print(f'Epoch {epoch}: Validation loss = {val_loss}, Validation accuracy: {val_acc}')\n",
        "\n",
        "        # 4.3. Save the model if the validation accuracy is increasing\n",
        "        if val_acc > max_acc:\n",
        "            print(f'Validation accuracy increased ({max_acc} --> {val_acc}). Model saved')\n",
        "            max_acc = val_acc\n",
        "            torch.save(model.state_dict(), 'epoch_' + str(epoch) + '_acc_{0:.4f}'.format(max_acc) + '.pt')\n",
        "\n"
      ],
      "metadata": {
        "colab": {
          "base_uri": "https://localhost:8080/"
        },
        "id": "hcDY29zehohK",
        "outputId": "4ba332b0-9df2-49aa-d29f-3952fd8d43c3"
      },
      "execution_count": null,
      "outputs": [
        {
          "output_type": "stream",
          "name": "stderr",
          "text": [
            "Training: 100%|█████████████████████████████████| 19/19 [05:53<00:00, 18.62s/it]\n",
            "Valid: 100%|██████████████████████████████████████| 1/1 [00:14<00:00, 14.22s/it]\n"
          ]
        },
        {
          "output_type": "stream",
          "name": "stdout",
          "text": [
            "Epoch 0: Validation loss = 1.364609956741333, Validation accuracy: 0.3500000238418579\n",
            "Validation accuracy increased (0 --> 0.3500000238418579). Model saved\n"
          ]
        },
        {
          "output_type": "stream",
          "name": "stderr",
          "text": [
            "Training: 100%|█████████████████████████████████| 19/19 [00:02<00:00,  6.34it/s]\n",
            "Valid: 100%|██████████████████████████████████████| 1/1 [00:00<00:00, 11.85it/s]\n"
          ]
        },
        {
          "output_type": "stream",
          "name": "stdout",
          "text": [
            "Epoch 1: Validation loss = 1.1601483821868896, Validation accuracy: 0.45000001788139343\n",
            "Validation accuracy increased (0.3500000238418579 --> 0.45000001788139343). Model saved\n"
          ]
        },
        {
          "output_type": "stream",
          "name": "stderr",
          "text": [
            "Training: 100%|█████████████████████████████████| 19/19 [00:03<00:00,  5.89it/s]\n",
            "Valid: 100%|██████████████████████████████████████| 1/1 [00:00<00:00, 10.81it/s]\n"
          ]
        },
        {
          "output_type": "stream",
          "name": "stdout",
          "text": [
            "Epoch 2: Validation loss = 0.9250661730766296, Validation accuracy: 0.6499999761581421\n",
            "Validation accuracy increased (0.45000001788139343 --> 0.6499999761581421). Model saved\n"
          ]
        },
        {
          "output_type": "stream",
          "name": "stderr",
          "text": [
            "Training: 100%|█████████████████████████████████| 19/19 [00:03<00:00,  5.87it/s]\n",
            "Valid: 100%|██████████████████████████████████████| 1/1 [00:00<00:00, 10.48it/s]\n"
          ]
        },
        {
          "output_type": "stream",
          "name": "stdout",
          "text": [
            "Epoch 3: Validation loss = 0.8232851028442383, Validation accuracy: 0.6500000357627869\n",
            "Validation accuracy increased (0.6499999761581421 --> 0.6500000357627869). Model saved\n"
          ]
        },
        {
          "output_type": "stream",
          "name": "stderr",
          "text": [
            "Training: 100%|█████████████████████████████████| 19/19 [00:03<00:00,  5.15it/s]\n",
            "Valid: 100%|██████████████████████████████████████| 1/1 [00:00<00:00,  9.44it/s]\n"
          ]
        },
        {
          "output_type": "stream",
          "name": "stdout",
          "text": [
            "Epoch 4: Validation loss = 0.9313212633132935, Validation accuracy: 0.6500000357627869\n"
          ]
        },
        {
          "output_type": "stream",
          "name": "stderr",
          "text": [
            "Training: 100%|█████████████████████████████████| 19/19 [00:03<00:00,  5.60it/s]\n",
            "Valid: 100%|██████████████████████████████████████| 1/1 [00:00<00:00,  8.99it/s]\n"
          ]
        },
        {
          "output_type": "stream",
          "name": "stdout",
          "text": [
            "Epoch 5: Validation loss = 1.0416505336761475, Validation accuracy: 0.6000000238418579\n"
          ]
        },
        {
          "output_type": "stream",
          "name": "stderr",
          "text": [
            "Training: 100%|█████████████████████████████████| 19/19 [00:03<00:00,  5.83it/s]\n",
            "Valid: 100%|██████████████████████████████████████| 1/1 [00:00<00:00, 10.84it/s]\n"
          ]
        },
        {
          "output_type": "stream",
          "name": "stdout",
          "text": [
            "Epoch 6: Validation loss = 0.9515305757522583, Validation accuracy: 0.6500000357627869\n"
          ]
        },
        {
          "output_type": "stream",
          "name": "stderr",
          "text": [
            "Training: 100%|█████████████████████████████████| 19/19 [00:03<00:00,  5.65it/s]\n",
            "Valid: 100%|██████████████████████████████████████| 1/1 [00:00<00:00, 10.05it/s]\n"
          ]
        },
        {
          "output_type": "stream",
          "name": "stdout",
          "text": [
            "Epoch 7: Validation loss = 1.0055161714553833, Validation accuracy: 0.7000000476837158\n",
            "Validation accuracy increased (0.6500000357627869 --> 0.7000000476837158). Model saved\n"
          ]
        },
        {
          "output_type": "stream",
          "name": "stderr",
          "text": [
            "Training: 100%|█████████████████████████████████| 19/19 [00:03<00:00,  5.41it/s]\n",
            "Valid: 100%|██████████████████████████████████████| 1/1 [00:00<00:00, 12.04it/s]\n"
          ]
        },
        {
          "output_type": "stream",
          "name": "stdout",
          "text": [
            "Epoch 8: Validation loss = 0.9059051275253296, Validation accuracy: 0.75\n",
            "Validation accuracy increased (0.7000000476837158 --> 0.75). Model saved\n"
          ]
        },
        {
          "output_type": "stream",
          "name": "stderr",
          "text": [
            "Training: 100%|█████████████████████████████████| 19/19 [00:03<00:00,  5.87it/s]\n",
            "Valid: 100%|██████████████████████████████████████| 1/1 [00:00<00:00, 11.24it/s]\n"
          ]
        },
        {
          "output_type": "stream",
          "name": "stdout",
          "text": [
            "Epoch 9: Validation loss = 1.1284377574920654, Validation accuracy: 0.6500000357627869\n"
          ]
        },
        {
          "output_type": "stream",
          "name": "stderr",
          "text": [
            "Training: 100%|█████████████████████████████████| 19/19 [00:03<00:00,  5.78it/s]\n",
            "Valid: 100%|██████████████████████████████████████| 1/1 [00:00<00:00,  8.69it/s]\n"
          ]
        },
        {
          "output_type": "stream",
          "name": "stdout",
          "text": [
            "Epoch 10: Validation loss = 0.9008943438529968, Validation accuracy: 0.75\n"
          ]
        },
        {
          "output_type": "stream",
          "name": "stderr",
          "text": [
            "Training: 100%|█████████████████████████████████| 19/19 [00:03<00:00,  5.54it/s]\n",
            "Valid: 100%|██████████████████████████████████████| 1/1 [00:00<00:00,  8.33it/s]\n"
          ]
        },
        {
          "output_type": "stream",
          "name": "stdout",
          "text": [
            "Epoch 11: Validation loss = 1.0997097492218018, Validation accuracy: 0.7000000476837158\n"
          ]
        },
        {
          "output_type": "stream",
          "name": "stderr",
          "text": [
            "Training: 100%|█████████████████████████████████| 19/19 [00:03<00:00,  5.53it/s]\n",
            "Valid: 100%|██████████████████████████████████████| 1/1 [00:00<00:00, 10.90it/s]\n"
          ]
        },
        {
          "output_type": "stream",
          "name": "stdout",
          "text": [
            "Epoch 12: Validation loss = 0.8681515455245972, Validation accuracy: 0.7000000476837158\n"
          ]
        },
        {
          "output_type": "stream",
          "name": "stderr",
          "text": [
            "Training: 100%|█████████████████████████████████| 19/19 [00:03<00:00,  5.91it/s]\n",
            "Valid: 100%|██████████████████████████████████████| 1/1 [00:00<00:00, 11.13it/s]\n"
          ]
        },
        {
          "output_type": "stream",
          "name": "stdout",
          "text": [
            "Epoch 13: Validation loss = 1.0704783201217651, Validation accuracy: 0.7000000476837158\n"
          ]
        },
        {
          "output_type": "stream",
          "name": "stderr",
          "text": [
            "Training: 100%|█████████████████████████████████| 19/19 [00:03<00:00,  5.85it/s]\n",
            "Valid: 100%|██████████████████████████████████████| 1/1 [00:00<00:00, 11.29it/s]\n"
          ]
        },
        {
          "output_type": "stream",
          "name": "stdout",
          "text": [
            "Epoch 14: Validation loss = 1.1236168146133423, Validation accuracy: 0.75\n"
          ]
        },
        {
          "output_type": "stream",
          "name": "stderr",
          "text": [
            "Training: 100%|█████████████████████████████████| 19/19 [00:03<00:00,  5.58it/s]\n",
            "Valid: 100%|██████████████████████████████████████| 1/1 [00:00<00:00, 10.10it/s]\n"
          ]
        },
        {
          "output_type": "stream",
          "name": "stdout",
          "text": [
            "Epoch 15: Validation loss = 1.1931809186935425, Validation accuracy: 0.7000000476837158\n"
          ]
        },
        {
          "output_type": "stream",
          "name": "stderr",
          "text": [
            "Training: 100%|█████████████████████████████████| 19/19 [00:03<00:00,  5.48it/s]\n",
            "Valid: 100%|██████████████████████████████████████| 1/1 [00:00<00:00,  9.41it/s]\n"
          ]
        },
        {
          "output_type": "stream",
          "name": "stdout",
          "text": [
            "Epoch 16: Validation loss = 0.8250978589057922, Validation accuracy: 0.75\n"
          ]
        },
        {
          "output_type": "stream",
          "name": "stderr",
          "text": [
            "Training: 100%|█████████████████████████████████| 19/19 [00:03<00:00,  5.70it/s]\n",
            "Valid: 100%|██████████████████████████████████████| 1/1 [00:00<00:00, 10.97it/s]\n"
          ]
        },
        {
          "output_type": "stream",
          "name": "stdout",
          "text": [
            "Epoch 17: Validation loss = 1.0993773937225342, Validation accuracy: 0.7000000476837158\n"
          ]
        },
        {
          "output_type": "stream",
          "name": "stderr",
          "text": [
            "Training: 100%|█████████████████████████████████| 19/19 [00:03<00:00,  5.69it/s]\n",
            "Valid: 100%|██████████████████████████████████████| 1/1 [00:00<00:00, 10.45it/s]\n"
          ]
        },
        {
          "output_type": "stream",
          "name": "stdout",
          "text": [
            "Epoch 18: Validation loss = 1.0886213779449463, Validation accuracy: 0.75\n"
          ]
        },
        {
          "output_type": "stream",
          "name": "stderr",
          "text": [
            "Training: 100%|█████████████████████████████████| 19/19 [00:03<00:00,  5.40it/s]\n",
            "Valid: 100%|██████████████████████████████████████| 1/1 [00:00<00:00,  9.70it/s]\n"
          ]
        },
        {
          "output_type": "stream",
          "name": "stdout",
          "text": [
            "Epoch 19: Validation loss = 1.037945032119751, Validation accuracy: 0.7000000476837158\n"
          ]
        },
        {
          "output_type": "stream",
          "name": "stderr",
          "text": [
            "Training: 100%|█████████████████████████████████| 19/19 [00:03<00:00,  5.58it/s]\n",
            "Valid: 100%|██████████████████████████████████████| 1/1 [00:00<00:00, 11.01it/s]\n"
          ]
        },
        {
          "output_type": "stream",
          "name": "stdout",
          "text": [
            "Epoch 20: Validation loss = 1.0776081085205078, Validation accuracy: 0.6500000357627869\n"
          ]
        },
        {
          "output_type": "stream",
          "name": "stderr",
          "text": [
            "Training: 100%|█████████████████████████████████| 19/19 [00:03<00:00,  5.84it/s]\n",
            "Valid: 100%|██████████████████████████████████████| 1/1 [00:00<00:00,  9.27it/s]\n"
          ]
        },
        {
          "output_type": "stream",
          "name": "stdout",
          "text": [
            "Epoch 21: Validation loss = 1.1368563175201416, Validation accuracy: 0.7000000476837158\n"
          ]
        },
        {
          "output_type": "stream",
          "name": "stderr",
          "text": [
            "Training: 100%|█████████████████████████████████| 19/19 [00:03<00:00,  5.89it/s]\n",
            "Valid: 100%|██████████████████████████████████████| 1/1 [00:00<00:00,  9.66it/s]\n"
          ]
        },
        {
          "output_type": "stream",
          "name": "stdout",
          "text": [
            "Epoch 22: Validation loss = 1.1160423755645752, Validation accuracy: 0.7000000476837158\n"
          ]
        },
        {
          "output_type": "stream",
          "name": "stderr",
          "text": [
            "Training: 100%|█████████████████████████████████| 19/19 [00:03<00:00,  5.59it/s]\n",
            "Valid: 100%|██████████████████████████████████████| 1/1 [00:00<00:00, 10.77it/s]\n"
          ]
        },
        {
          "output_type": "stream",
          "name": "stdout",
          "text": [
            "Epoch 23: Validation loss = 1.1460307836532593, Validation accuracy: 0.6500000357627869\n"
          ]
        },
        {
          "output_type": "stream",
          "name": "stderr",
          "text": [
            "Training: 100%|█████████████████████████████████| 19/19 [00:03<00:00,  5.61it/s]\n",
            "Valid: 100%|██████████████████████████████████████| 1/1 [00:00<00:00, 11.35it/s]\n"
          ]
        },
        {
          "output_type": "stream",
          "name": "stdout",
          "text": [
            "Epoch 24: Validation loss = 1.0885813236236572, Validation accuracy: 0.6500000357627869\n"
          ]
        },
        {
          "output_type": "stream",
          "name": "stderr",
          "text": [
            "Training: 100%|█████████████████████████████████| 19/19 [00:03<00:00,  5.86it/s]\n",
            "Valid: 100%|██████████████████████████████████████| 1/1 [00:00<00:00,  9.41it/s]\n"
          ]
        },
        {
          "output_type": "stream",
          "name": "stdout",
          "text": [
            "Epoch 25: Validation loss = 1.086698055267334, Validation accuracy: 0.7000000476837158\n"
          ]
        },
        {
          "output_type": "stream",
          "name": "stderr",
          "text": [
            "Training: 100%|█████████████████████████████████| 19/19 [00:03<00:00,  5.79it/s]\n",
            "Valid: 100%|██████████████████████████████████████| 1/1 [00:00<00:00, 11.51it/s]\n"
          ]
        },
        {
          "output_type": "stream",
          "name": "stdout",
          "text": [
            "Epoch 26: Validation loss = 1.0848580598831177, Validation accuracy: 0.6500000357627869\n"
          ]
        },
        {
          "output_type": "stream",
          "name": "stderr",
          "text": [
            "Training: 100%|█████████████████████████████████| 19/19 [00:03<00:00,  5.65it/s]\n",
            "Valid: 100%|██████████████████████████████████████| 1/1 [00:00<00:00,  8.49it/s]\n"
          ]
        },
        {
          "output_type": "stream",
          "name": "stdout",
          "text": [
            "Epoch 27: Validation loss = 1.0872857570648193, Validation accuracy: 0.6500000357627869\n"
          ]
        },
        {
          "output_type": "stream",
          "name": "stderr",
          "text": [
            "Training: 100%|█████████████████████████████████| 19/19 [00:03<00:00,  5.58it/s]\n",
            "Valid: 100%|██████████████████████████████████████| 1/1 [00:00<00:00, 11.24it/s]\n"
          ]
        },
        {
          "output_type": "stream",
          "name": "stdout",
          "text": [
            "Epoch 28: Validation loss = 1.0994725227355957, Validation accuracy: 0.6500000357627869\n"
          ]
        },
        {
          "output_type": "stream",
          "name": "stderr",
          "text": [
            "Training: 100%|█████████████████████████████████| 19/19 [00:03<00:00,  5.83it/s]\n",
            "Valid: 100%|██████████████████████████████████████| 1/1 [00:00<00:00, 11.59it/s]\n"
          ]
        },
        {
          "output_type": "stream",
          "name": "stdout",
          "text": [
            "Epoch 29: Validation loss = 1.1318150758743286, Validation accuracy: 0.6500000357627869\n"
          ]
        },
        {
          "output_type": "stream",
          "name": "stderr",
          "text": [
            "Training: 100%|█████████████████████████████████| 19/19 [00:03<00:00,  6.00it/s]\n",
            "Valid: 100%|██████████████████████████████████████| 1/1 [00:00<00:00, 10.03it/s]\n"
          ]
        },
        {
          "output_type": "stream",
          "name": "stdout",
          "text": [
            "Epoch 30: Validation loss = 1.0926387310028076, Validation accuracy: 0.6500000357627869\n"
          ]
        },
        {
          "output_type": "stream",
          "name": "stderr",
          "text": [
            "Training: 100%|█████████████████████████████████| 19/19 [00:03<00:00,  5.56it/s]\n",
            "Valid: 100%|██████████████████████████████████████| 1/1 [00:00<00:00,  8.92it/s]\n"
          ]
        },
        {
          "output_type": "stream",
          "name": "stdout",
          "text": [
            "Epoch 31: Validation loss = 1.1495927572250366, Validation accuracy: 0.7000000476837158\n"
          ]
        },
        {
          "output_type": "stream",
          "name": "stderr",
          "text": [
            "Training: 100%|█████████████████████████████████| 19/19 [00:03<00:00,  5.70it/s]\n",
            "Valid: 100%|██████████████████████████████████████| 1/1 [00:00<00:00,  8.86it/s]\n"
          ]
        },
        {
          "output_type": "stream",
          "name": "stdout",
          "text": [
            "Epoch 32: Validation loss = 1.1949942111968994, Validation accuracy: 0.7000000476837158\n"
          ]
        },
        {
          "output_type": "stream",
          "name": "stderr",
          "text": [
            "Training: 100%|█████████████████████████████████| 19/19 [00:03<00:00,  5.88it/s]\n",
            "Valid: 100%|██████████████████████████████████████| 1/1 [00:00<00:00,  9.17it/s]\n"
          ]
        },
        {
          "output_type": "stream",
          "name": "stdout",
          "text": [
            "Epoch 33: Validation loss = 1.2106438875198364, Validation accuracy: 0.6500000357627869\n"
          ]
        },
        {
          "output_type": "stream",
          "name": "stderr",
          "text": [
            "Training: 100%|█████████████████████████████████| 19/19 [00:03<00:00,  5.96it/s]\n",
            "Valid: 100%|██████████████████████████████████████| 1/1 [00:00<00:00, 11.10it/s]\n"
          ]
        },
        {
          "output_type": "stream",
          "name": "stdout",
          "text": [
            "Epoch 34: Validation loss = 1.2050237655639648, Validation accuracy: 0.6500000357627869\n"
          ]
        },
        {
          "output_type": "stream",
          "name": "stderr",
          "text": [
            "Training: 100%|█████████████████████████████████| 19/19 [00:03<00:00,  5.56it/s]\n",
            "Valid: 100%|██████████████████████████████████████| 1/1 [00:00<00:00, 10.42it/s]\n"
          ]
        },
        {
          "output_type": "stream",
          "name": "stdout",
          "text": [
            "Epoch 35: Validation loss = 1.1565439701080322, Validation accuracy: 0.7000000476837158\n"
          ]
        },
        {
          "output_type": "stream",
          "name": "stderr",
          "text": [
            "Training: 100%|█████████████████████████████████| 19/19 [00:03<00:00,  5.60it/s]\n",
            "Valid: 100%|██████████████████████████████████████| 1/1 [00:00<00:00, 10.64it/s]\n"
          ]
        },
        {
          "output_type": "stream",
          "name": "stdout",
          "text": [
            "Epoch 36: Validation loss = 1.1754566431045532, Validation accuracy: 0.6500000357627869\n"
          ]
        },
        {
          "output_type": "stream",
          "name": "stderr",
          "text": [
            "Training: 100%|█████████████████████████████████| 19/19 [00:03<00:00,  5.81it/s]\n",
            "Valid: 100%|██████████████████████████████████████| 1/1 [00:00<00:00, 11.53it/s]\n"
          ]
        },
        {
          "output_type": "stream",
          "name": "stdout",
          "text": [
            "Epoch 37: Validation loss = 1.221627950668335, Validation accuracy: 0.6500000357627869\n"
          ]
        },
        {
          "output_type": "stream",
          "name": "stderr",
          "text": [
            "Training: 100%|█████████████████████████████████| 19/19 [00:03<00:00,  5.98it/s]\n",
            "Valid: 100%|██████████████████████████████████████| 1/1 [00:00<00:00,  9.42it/s]\n"
          ]
        },
        {
          "output_type": "stream",
          "name": "stdout",
          "text": [
            "Epoch 38: Validation loss = 1.225530743598938, Validation accuracy: 0.6500000357627869\n"
          ]
        },
        {
          "output_type": "stream",
          "name": "stderr",
          "text": [
            "Training: 100%|█████████████████████████████████| 19/19 [00:03<00:00,  5.52it/s]\n",
            "Valid: 100%|██████████████████████████████████████| 1/1 [00:00<00:00, 10.14it/s]\n"
          ]
        },
        {
          "output_type": "stream",
          "name": "stdout",
          "text": [
            "Epoch 39: Validation loss = 1.1770763397216797, Validation accuracy: 0.6500000357627869\n"
          ]
        },
        {
          "output_type": "stream",
          "name": "stderr",
          "text": [
            "Training: 100%|█████████████████████████████████| 19/19 [00:03<00:00,  5.69it/s]\n",
            "Valid: 100%|██████████████████████████████████████| 1/1 [00:00<00:00, 10.71it/s]\n"
          ]
        },
        {
          "output_type": "stream",
          "name": "stdout",
          "text": [
            "Epoch 40: Validation loss = 1.2493103742599487, Validation accuracy: 0.6500000357627869\n"
          ]
        },
        {
          "output_type": "stream",
          "name": "stderr",
          "text": [
            "Training: 100%|█████████████████████████████████| 19/19 [00:03<00:00,  5.82it/s]\n",
            "Valid: 100%|██████████████████████████████████████| 1/1 [00:00<00:00, 10.75it/s]\n"
          ]
        },
        {
          "output_type": "stream",
          "name": "stdout",
          "text": [
            "Epoch 41: Validation loss = 1.2576210498809814, Validation accuracy: 0.6500000357627869\n"
          ]
        },
        {
          "output_type": "stream",
          "name": "stderr",
          "text": [
            "Training: 100%|█████████████████████████████████| 19/19 [00:03<00:00,  5.83it/s]\n",
            "Valid: 100%|██████████████████████████████████████| 1/1 [00:00<00:00, 11.59it/s]\n"
          ]
        },
        {
          "output_type": "stream",
          "name": "stdout",
          "text": [
            "Epoch 42: Validation loss = 1.2375162839889526, Validation accuracy: 0.6500000357627869\n"
          ]
        },
        {
          "output_type": "stream",
          "name": "stderr",
          "text": [
            "Training: 100%|█████████████████████████████████| 19/19 [00:03<00:00,  5.43it/s]\n",
            "Valid: 100%|██████████████████████████████████████| 1/1 [00:00<00:00,  7.93it/s]\n"
          ]
        },
        {
          "output_type": "stream",
          "name": "stdout",
          "text": [
            "Epoch 43: Validation loss = 1.2367222309112549, Validation accuracy: 0.6500000357627869\n"
          ]
        },
        {
          "output_type": "stream",
          "name": "stderr",
          "text": [
            "Training: 100%|█████████████████████████████████| 19/19 [00:03<00:00,  5.68it/s]\n",
            "Valid: 100%|██████████████████████████████████████| 1/1 [00:00<00:00, 11.41it/s]\n"
          ]
        },
        {
          "output_type": "stream",
          "name": "stdout",
          "text": [
            "Epoch 44: Validation loss = 1.2552897930145264, Validation accuracy: 0.6500000357627869\n"
          ]
        },
        {
          "output_type": "stream",
          "name": "stderr",
          "text": [
            "Training: 100%|█████████████████████████████████| 19/19 [00:03<00:00,  5.88it/s]\n",
            "Valid: 100%|██████████████████████████████████████| 1/1 [00:00<00:00, 10.48it/s]\n"
          ]
        },
        {
          "output_type": "stream",
          "name": "stdout",
          "text": [
            "Epoch 45: Validation loss = 1.2639870643615723, Validation accuracy: 0.6500000357627869\n"
          ]
        },
        {
          "output_type": "stream",
          "name": "stderr",
          "text": [
            "Training: 100%|█████████████████████████████████| 19/19 [00:03<00:00,  5.73it/s]\n",
            "Valid: 100%|██████████████████████████████████████| 1/1 [00:00<00:00, 10.06it/s]\n"
          ]
        },
        {
          "output_type": "stream",
          "name": "stdout",
          "text": [
            "Epoch 46: Validation loss = 1.2551109790802002, Validation accuracy: 0.6500000357627869\n"
          ]
        },
        {
          "output_type": "stream",
          "name": "stderr",
          "text": [
            "Training: 100%|█████████████████████████████████| 19/19 [00:03<00:00,  5.47it/s]\n",
            "Valid: 100%|██████████████████████████████████████| 1/1 [00:00<00:00,  8.78it/s]\n"
          ]
        },
        {
          "output_type": "stream",
          "name": "stdout",
          "text": [
            "Epoch 47: Validation loss = 1.2268118858337402, Validation accuracy: 0.7000000476837158\n"
          ]
        },
        {
          "output_type": "stream",
          "name": "stderr",
          "text": [
            "Training: 100%|█████████████████████████████████| 19/19 [00:03<00:00,  5.79it/s]\n",
            "Valid: 100%|██████████████████████████████████████| 1/1 [00:00<00:00,  8.71it/s]\n"
          ]
        },
        {
          "output_type": "stream",
          "name": "stdout",
          "text": [
            "Epoch 48: Validation loss = 1.2287920713424683, Validation accuracy: 0.7000000476837158\n"
          ]
        },
        {
          "output_type": "stream",
          "name": "stderr",
          "text": [
            "Training: 100%|█████████████████████████████████| 19/19 [00:03<00:00,  5.81it/s]\n",
            "Valid: 100%|██████████████████████████████████████| 1/1 [00:00<00:00,  9.20it/s]\n"
          ]
        },
        {
          "output_type": "stream",
          "name": "stdout",
          "text": [
            "Epoch 49: Validation loss = 1.2339894771575928, Validation accuracy: 0.7000000476837158\n"
          ]
        },
        {
          "output_type": "stream",
          "name": "stderr",
          "text": [
            "Training: 100%|█████████████████████████████████| 19/19 [00:03<00:00,  5.84it/s]\n",
            "Valid: 100%|██████████████████████████████████████| 1/1 [00:00<00:00, 10.57it/s]\n"
          ]
        },
        {
          "output_type": "stream",
          "name": "stdout",
          "text": [
            "Epoch 50: Validation loss = 1.2787630558013916, Validation accuracy: 0.7000000476837158\n"
          ]
        },
        {
          "output_type": "stream",
          "name": "stderr",
          "text": [
            "Training: 100%|█████████████████████████████████| 19/19 [00:03<00:00,  5.42it/s]\n",
            "Valid: 100%|██████████████████████████████████████| 1/1 [00:00<00:00,  9.09it/s]\n"
          ]
        },
        {
          "output_type": "stream",
          "name": "stdout",
          "text": [
            "Epoch 51: Validation loss = 1.309301733970642, Validation accuracy: 0.6500000357627869\n"
          ]
        },
        {
          "output_type": "stream",
          "name": "stderr",
          "text": [
            "Training: 100%|█████████████████████████████████| 19/19 [00:03<00:00,  5.83it/s]\n",
            "Valid: 100%|██████████████████████████████████████| 1/1 [00:00<00:00, 11.16it/s]\n"
          ]
        },
        {
          "output_type": "stream",
          "name": "stdout",
          "text": [
            "Epoch 52: Validation loss = 1.2952810525894165, Validation accuracy: 0.7000000476837158\n"
          ]
        },
        {
          "output_type": "stream",
          "name": "stderr",
          "text": [
            "Training: 100%|█████████████████████████████████| 19/19 [00:03<00:00,  5.89it/s]\n",
            "Valid: 100%|██████████████████████████████████████| 1/1 [00:00<00:00, 11.37it/s]\n"
          ]
        },
        {
          "output_type": "stream",
          "name": "stdout",
          "text": [
            "Epoch 53: Validation loss = 1.3169523477554321, Validation accuracy: 0.7000000476837158\n"
          ]
        },
        {
          "output_type": "stream",
          "name": "stderr",
          "text": [
            "Training: 100%|█████████████████████████████████| 19/19 [00:03<00:00,  6.04it/s]\n",
            "Valid: 100%|██████████████████████████████████████| 1/1 [00:00<00:00, 10.01it/s]\n"
          ]
        },
        {
          "output_type": "stream",
          "name": "stdout",
          "text": [
            "Epoch 54: Validation loss = 1.301023244857788, Validation accuracy: 0.7000000476837158\n"
          ]
        },
        {
          "output_type": "stream",
          "name": "stderr",
          "text": [
            "Training: 100%|█████████████████████████████████| 19/19 [00:03<00:00,  5.30it/s]\n",
            "Valid: 100%|██████████████████████████████████████| 1/1 [00:00<00:00,  5.57it/s]\n"
          ]
        },
        {
          "output_type": "stream",
          "name": "stdout",
          "text": [
            "Epoch 55: Validation loss = 1.2934041023254395, Validation accuracy: 0.7000000476837158\n"
          ]
        },
        {
          "output_type": "stream",
          "name": "stderr",
          "text": [
            "Training: 100%|█████████████████████████████████| 19/19 [00:03<00:00,  5.88it/s]\n",
            "Valid: 100%|██████████████████████████████████████| 1/1 [00:00<00:00, 10.58it/s]\n"
          ]
        },
        {
          "output_type": "stream",
          "name": "stdout",
          "text": [
            "Epoch 56: Validation loss = 1.253033995628357, Validation accuracy: 0.7000000476837158\n"
          ]
        },
        {
          "output_type": "stream",
          "name": "stderr",
          "text": [
            "Training: 100%|█████████████████████████████████| 19/19 [00:03<00:00,  5.96it/s]\n",
            "Valid: 100%|██████████████████████████████████████| 1/1 [00:00<00:00, 11.30it/s]\n"
          ]
        },
        {
          "output_type": "stream",
          "name": "stdout",
          "text": [
            "Epoch 57: Validation loss = 1.342456579208374, Validation accuracy: 0.7000000476837158\n"
          ]
        },
        {
          "output_type": "stream",
          "name": "stderr",
          "text": [
            "Training: 100%|█████████████████████████████████| 19/19 [00:03<00:00,  5.87it/s]\n",
            "Valid: 100%|██████████████████████████████████████| 1/1 [00:00<00:00, 10.46it/s]\n"
          ]
        },
        {
          "output_type": "stream",
          "name": "stdout",
          "text": [
            "Epoch 58: Validation loss = 1.3323360681533813, Validation accuracy: 0.7000000476837158\n"
          ]
        },
        {
          "output_type": "stream",
          "name": "stderr",
          "text": [
            "Training: 100%|█████████████████████████████████| 19/19 [00:03<00:00,  5.32it/s]\n",
            "Valid: 100%|██████████████████████████████████████| 1/1 [00:00<00:00,  8.91it/s]\n"
          ]
        },
        {
          "output_type": "stream",
          "name": "stdout",
          "text": [
            "Epoch 59: Validation loss = 1.3297107219696045, Validation accuracy: 0.7000000476837158\n"
          ]
        },
        {
          "output_type": "stream",
          "name": "stderr",
          "text": [
            "Training: 100%|█████████████████████████████████| 19/19 [00:03<00:00,  5.98it/s]\n",
            "Valid: 100%|██████████████████████████████████████| 1/1 [00:00<00:00, 11.59it/s]\n"
          ]
        },
        {
          "output_type": "stream",
          "name": "stdout",
          "text": [
            "Epoch 60: Validation loss = 1.314546823501587, Validation accuracy: 0.7000000476837158\n"
          ]
        },
        {
          "output_type": "stream",
          "name": "stderr",
          "text": [
            "Training: 100%|█████████████████████████████████| 19/19 [00:03<00:00,  5.92it/s]\n",
            "Valid: 100%|██████████████████████████████████████| 1/1 [00:00<00:00, 11.24it/s]\n"
          ]
        },
        {
          "output_type": "stream",
          "name": "stdout",
          "text": [
            "Epoch 61: Validation loss = 1.293379545211792, Validation accuracy: 0.7000000476837158\n"
          ]
        },
        {
          "output_type": "stream",
          "name": "stderr",
          "text": [
            "Training: 100%|█████████████████████████████████| 19/19 [00:03<00:00,  5.89it/s]\n",
            "Valid: 100%|██████████████████████████████████████| 1/1 [00:00<00:00, 10.95it/s]\n"
          ]
        },
        {
          "output_type": "stream",
          "name": "stdout",
          "text": [
            "Epoch 62: Validation loss = 1.3622698783874512, Validation accuracy: 0.7000000476837158\n"
          ]
        },
        {
          "output_type": "stream",
          "name": "stderr",
          "text": [
            "Training: 100%|█████████████████████████████████| 19/19 [00:03<00:00,  5.31it/s]\n",
            "Valid: 100%|██████████████████████████████████████| 1/1 [00:00<00:00, 11.03it/s]\n"
          ]
        },
        {
          "output_type": "stream",
          "name": "stdout",
          "text": [
            "Epoch 63: Validation loss = 1.3530024290084839, Validation accuracy: 0.7000000476837158\n"
          ]
        },
        {
          "output_type": "stream",
          "name": "stderr",
          "text": [
            "Training: 100%|█████████████████████████████████| 19/19 [00:03<00:00,  5.84it/s]\n",
            "Valid: 100%|██████████████████████████████████████| 1/1 [00:00<00:00, 11.70it/s]\n"
          ]
        },
        {
          "output_type": "stream",
          "name": "stdout",
          "text": [
            "Epoch 64: Validation loss = 1.3253676891326904, Validation accuracy: 0.7000000476837158\n"
          ]
        },
        {
          "output_type": "stream",
          "name": "stderr",
          "text": [
            "Training: 100%|█████████████████████████████████| 19/19 [00:03<00:00,  5.91it/s]\n",
            "Valid: 100%|██████████████████████████████████████| 1/1 [00:00<00:00, 11.57it/s]\n"
          ]
        },
        {
          "output_type": "stream",
          "name": "stdout",
          "text": [
            "Epoch 65: Validation loss = 1.3180063962936401, Validation accuracy: 0.7000000476837158\n"
          ]
        },
        {
          "output_type": "stream",
          "name": "stderr",
          "text": [
            "Training: 100%|█████████████████████████████████| 19/19 [00:03<00:00,  5.88it/s]\n",
            "Valid: 100%|██████████████████████████████████████| 1/1 [00:00<00:00,  9.12it/s]\n"
          ]
        },
        {
          "output_type": "stream",
          "name": "stdout",
          "text": [
            "Epoch 66: Validation loss = 1.329479455947876, Validation accuracy: 0.7000000476837158\n"
          ]
        },
        {
          "output_type": "stream",
          "name": "stderr",
          "text": [
            "Training: 100%|█████████████████████████████████| 19/19 [00:03<00:00,  5.35it/s]\n",
            "Valid: 100%|██████████████████████████████████████| 1/1 [00:00<00:00, 11.61it/s]\n"
          ]
        },
        {
          "output_type": "stream",
          "name": "stdout",
          "text": [
            "Epoch 67: Validation loss = 1.3122518062591553, Validation accuracy: 0.7000000476837158\n"
          ]
        },
        {
          "output_type": "stream",
          "name": "stderr",
          "text": [
            "Training: 100%|█████████████████████████████████| 19/19 [00:03<00:00,  5.99it/s]\n",
            "Valid: 100%|██████████████████████████████████████| 1/1 [00:00<00:00, 11.98it/s]\n"
          ]
        },
        {
          "output_type": "stream",
          "name": "stdout",
          "text": [
            "Epoch 68: Validation loss = 1.3130521774291992, Validation accuracy: 0.7000000476837158\n"
          ]
        },
        {
          "output_type": "stream",
          "name": "stderr",
          "text": [
            "Training: 100%|█████████████████████████████████| 19/19 [00:03<00:00,  6.01it/s]\n",
            "Valid: 100%|██████████████████████████████████████| 1/1 [00:00<00:00,  9.59it/s]\n"
          ]
        },
        {
          "output_type": "stream",
          "name": "stdout",
          "text": [
            "Epoch 69: Validation loss = 1.3040680885314941, Validation accuracy: 0.7000000476837158\n"
          ]
        },
        {
          "output_type": "stream",
          "name": "stderr",
          "text": [
            "Training: 100%|█████████████████████████████████| 19/19 [00:03<00:00,  5.97it/s]\n",
            "Valid: 100%|██████████████████████████████████████| 1/1 [00:00<00:00,  9.17it/s]\n"
          ]
        },
        {
          "output_type": "stream",
          "name": "stdout",
          "text": [
            "Epoch 70: Validation loss = 1.2967294454574585, Validation accuracy: 0.7000000476837158\n"
          ]
        },
        {
          "output_type": "stream",
          "name": "stderr",
          "text": [
            "Training: 100%|█████████████████████████████████| 19/19 [00:03<00:00,  5.34it/s]\n",
            "Valid: 100%|██████████████████████████████████████| 1/1 [00:00<00:00,  8.35it/s]\n"
          ]
        },
        {
          "output_type": "stream",
          "name": "stdout",
          "text": [
            "Epoch 71: Validation loss = 1.3132197856903076, Validation accuracy: 0.7000000476837158\n"
          ]
        },
        {
          "output_type": "stream",
          "name": "stderr",
          "text": [
            "Training: 100%|█████████████████████████████████| 19/19 [00:03<00:00,  6.12it/s]\n",
            "Valid: 100%|██████████████████████████████████████| 1/1 [00:00<00:00,  9.23it/s]\n"
          ]
        },
        {
          "output_type": "stream",
          "name": "stdout",
          "text": [
            "Epoch 72: Validation loss = 1.3029236793518066, Validation accuracy: 0.7000000476837158\n"
          ]
        },
        {
          "output_type": "stream",
          "name": "stderr",
          "text": [
            "Training: 100%|█████████████████████████████████| 19/19 [00:03<00:00,  5.92it/s]\n",
            "Valid: 100%|██████████████████████████████████████| 1/1 [00:00<00:00,  9.60it/s]\n"
          ]
        },
        {
          "output_type": "stream",
          "name": "stdout",
          "text": [
            "Epoch 73: Validation loss = 1.3579301834106445, Validation accuracy: 0.6500000357627869\n"
          ]
        },
        {
          "output_type": "stream",
          "name": "stderr",
          "text": [
            "Training: 100%|█████████████████████████████████| 19/19 [00:03<00:00,  5.96it/s]\n",
            "Valid: 100%|██████████████████████████████████████| 1/1 [00:00<00:00,  9.77it/s]\n"
          ]
        },
        {
          "output_type": "stream",
          "name": "stdout",
          "text": [
            "Epoch 74: Validation loss = 1.291334867477417, Validation accuracy: 0.7000000476837158\n"
          ]
        },
        {
          "output_type": "stream",
          "name": "stderr",
          "text": [
            "Training: 100%|█████████████████████████████████| 19/19 [00:03<00:00,  5.14it/s]\n",
            "Valid: 100%|██████████████████████████████████████| 1/1 [00:00<00:00,  8.98it/s]\n"
          ]
        },
        {
          "output_type": "stream",
          "name": "stdout",
          "text": [
            "Epoch 75: Validation loss = 1.2808332443237305, Validation accuracy: 0.7000000476837158\n"
          ]
        },
        {
          "output_type": "stream",
          "name": "stderr",
          "text": [
            "Training: 100%|█████████████████████████████████| 19/19 [00:03<00:00,  6.01it/s]\n",
            "Valid: 100%|██████████████████████████████████████| 1/1 [00:00<00:00,  9.40it/s]\n"
          ]
        },
        {
          "output_type": "stream",
          "name": "stdout",
          "text": [
            "Epoch 76: Validation loss = 1.3351281881332397, Validation accuracy: 0.6500000357627869\n"
          ]
        },
        {
          "output_type": "stream",
          "name": "stderr",
          "text": [
            "Training: 100%|█████████████████████████████████| 19/19 [00:03<00:00,  6.02it/s]\n",
            "Valid: 100%|██████████████████████████████████████| 1/1 [00:00<00:00,  9.53it/s]\n"
          ]
        },
        {
          "output_type": "stream",
          "name": "stdout",
          "text": [
            "Epoch 77: Validation loss = 1.2950793504714966, Validation accuracy: 0.6500000357627869\n"
          ]
        },
        {
          "output_type": "stream",
          "name": "stderr",
          "text": [
            "Training: 100%|█████████████████████████████████| 19/19 [00:03<00:00,  6.09it/s]\n",
            "Valid: 100%|██████████████████████████████████████| 1/1 [00:00<00:00,  9.63it/s]\n"
          ]
        },
        {
          "output_type": "stream",
          "name": "stdout",
          "text": [
            "Epoch 78: Validation loss = 1.3396203517913818, Validation accuracy: 0.6500000357627869\n"
          ]
        },
        {
          "output_type": "stream",
          "name": "stderr",
          "text": [
            "Training: 100%|█████████████████████████████████| 19/19 [00:03<00:00,  5.34it/s]\n",
            "Valid: 100%|██████████████████████████████████████| 1/1 [00:00<00:00,  7.87it/s]\n"
          ]
        },
        {
          "output_type": "stream",
          "name": "stdout",
          "text": [
            "Epoch 79: Validation loss = 1.325082778930664, Validation accuracy: 0.6500000357627869\n"
          ]
        },
        {
          "output_type": "stream",
          "name": "stderr",
          "text": [
            "Training: 100%|█████████████████████████████████| 19/19 [00:03<00:00,  5.90it/s]\n",
            "Valid: 100%|██████████████████████████████████████| 1/1 [00:00<00:00,  9.57it/s]\n"
          ]
        },
        {
          "output_type": "stream",
          "name": "stdout",
          "text": [
            "Epoch 80: Validation loss = 1.373847484588623, Validation accuracy: 0.6500000357627869\n"
          ]
        },
        {
          "output_type": "stream",
          "name": "stderr",
          "text": [
            "Training: 100%|█████████████████████████████████| 19/19 [00:03<00:00,  5.97it/s]\n",
            "Valid: 100%|██████████████████████████████████████| 1/1 [00:00<00:00, 10.04it/s]\n"
          ]
        },
        {
          "output_type": "stream",
          "name": "stdout",
          "text": [
            "Epoch 81: Validation loss = 1.3540942668914795, Validation accuracy: 0.6500000357627869\n"
          ]
        },
        {
          "output_type": "stream",
          "name": "stderr",
          "text": [
            "Training: 100%|█████████████████████████████████| 19/19 [00:03<00:00,  5.97it/s]\n",
            "Valid: 100%|██████████████████████████████████████| 1/1 [00:00<00:00, 11.17it/s]\n"
          ]
        },
        {
          "output_type": "stream",
          "name": "stdout",
          "text": [
            "Epoch 82: Validation loss = 1.3665187358856201, Validation accuracy: 0.6500000357627869\n"
          ]
        },
        {
          "output_type": "stream",
          "name": "stderr",
          "text": [
            "Training: 100%|█████████████████████████████████| 19/19 [00:03<00:00,  5.39it/s]\n",
            "Valid: 100%|██████████████████████████████████████| 1/1 [00:00<00:00, 10.07it/s]\n"
          ]
        },
        {
          "output_type": "stream",
          "name": "stdout",
          "text": [
            "Epoch 83: Validation loss = 1.3289134502410889, Validation accuracy: 0.6500000357627869\n"
          ]
        },
        {
          "output_type": "stream",
          "name": "stderr",
          "text": [
            "Training: 100%|█████████████████████████████████| 19/19 [00:03<00:00,  5.94it/s]\n",
            "Valid: 100%|██████████████████████████████████████| 1/1 [00:00<00:00, 11.52it/s]\n"
          ]
        },
        {
          "output_type": "stream",
          "name": "stdout",
          "text": [
            "Epoch 84: Validation loss = 1.3697757720947266, Validation accuracy: 0.6500000357627869\n"
          ]
        },
        {
          "output_type": "stream",
          "name": "stderr",
          "text": [
            "Training: 100%|█████████████████████████████████| 19/19 [00:03<00:00,  5.98it/s]\n",
            "Valid: 100%|██████████████████████████████████████| 1/1 [00:00<00:00, 11.48it/s]\n"
          ]
        },
        {
          "output_type": "stream",
          "name": "stdout",
          "text": [
            "Epoch 85: Validation loss = 1.3712691068649292, Validation accuracy: 0.6500000357627869\n"
          ]
        },
        {
          "output_type": "stream",
          "name": "stderr",
          "text": [
            "Training: 100%|█████████████████████████████████| 19/19 [00:03<00:00,  5.92it/s]\n",
            "Valid: 100%|██████████████████████████████████████| 1/1 [00:00<00:00, 11.13it/s]\n"
          ]
        },
        {
          "output_type": "stream",
          "name": "stdout",
          "text": [
            "Epoch 86: Validation loss = 1.355165719985962, Validation accuracy: 0.6500000357627869\n"
          ]
        },
        {
          "output_type": "stream",
          "name": "stderr",
          "text": [
            "Training: 100%|█████████████████████████████████| 19/19 [00:03<00:00,  5.18it/s]\n",
            "Valid: 100%|██████████████████████████████████████| 1/1 [00:00<00:00, 10.13it/s]\n"
          ]
        },
        {
          "output_type": "stream",
          "name": "stdout",
          "text": [
            "Epoch 87: Validation loss = 1.3710581064224243, Validation accuracy: 0.6500000357627869\n"
          ]
        },
        {
          "output_type": "stream",
          "name": "stderr",
          "text": [
            "Training: 100%|█████████████████████████████████| 19/19 [00:03<00:00,  5.90it/s]\n",
            "Valid: 100%|██████████████████████████████████████| 1/1 [00:00<00:00, 11.57it/s]\n"
          ]
        },
        {
          "output_type": "stream",
          "name": "stdout",
          "text": [
            "Epoch 88: Validation loss = 1.3797996044158936, Validation accuracy: 0.6500000357627869\n"
          ]
        },
        {
          "output_type": "stream",
          "name": "stderr",
          "text": [
            "Training: 100%|█████████████████████████████████| 19/19 [00:03<00:00,  5.91it/s]\n",
            "Valid: 100%|██████████████████████████████████████| 1/1 [00:00<00:00, 11.26it/s]\n"
          ]
        },
        {
          "output_type": "stream",
          "name": "stdout",
          "text": [
            "Epoch 89: Validation loss = 1.3998881578445435, Validation accuracy: 0.6500000357627869\n"
          ]
        },
        {
          "output_type": "stream",
          "name": "stderr",
          "text": [
            "Training: 100%|█████████████████████████████████| 19/19 [00:03<00:00,  5.87it/s]\n",
            "Valid: 100%|██████████████████████████████████████| 1/1 [00:00<00:00, 10.54it/s]\n"
          ]
        },
        {
          "output_type": "stream",
          "name": "stdout",
          "text": [
            "Epoch 90: Validation loss = 1.3680737018585205, Validation accuracy: 0.7000000476837158\n"
          ]
        },
        {
          "output_type": "stream",
          "name": "stderr",
          "text": [
            "Training: 100%|█████████████████████████████████| 19/19 [00:03<00:00,  5.38it/s]\n",
            "Valid: 100%|██████████████████████████████████████| 1/1 [00:00<00:00,  9.35it/s]\n"
          ]
        },
        {
          "output_type": "stream",
          "name": "stdout",
          "text": [
            "Epoch 91: Validation loss = 1.3722141981124878, Validation accuracy: 0.7000000476837158\n"
          ]
        },
        {
          "output_type": "stream",
          "name": "stderr",
          "text": [
            "Training: 100%|█████████████████████████████████| 19/19 [00:03<00:00,  5.87it/s]\n",
            "Valid: 100%|██████████████████████████████████████| 1/1 [00:00<00:00, 11.38it/s]\n"
          ]
        },
        {
          "output_type": "stream",
          "name": "stdout",
          "text": [
            "Epoch 92: Validation loss = 1.3501875400543213, Validation accuracy: 0.6500000357627869\n"
          ]
        },
        {
          "output_type": "stream",
          "name": "stderr",
          "text": [
            "Training: 100%|█████████████████████████████████| 19/19 [00:03<00:00,  5.89it/s]\n",
            "Valid: 100%|██████████████████████████████████████| 1/1 [00:00<00:00, 10.88it/s]\n"
          ]
        },
        {
          "output_type": "stream",
          "name": "stdout",
          "text": [
            "Epoch 93: Validation loss = 1.3510358333587646, Validation accuracy: 0.6500000357627869\n"
          ]
        },
        {
          "output_type": "stream",
          "name": "stderr",
          "text": [
            "Training: 100%|█████████████████████████████████| 19/19 [00:03<00:00,  5.92it/s]\n",
            "Valid: 100%|██████████████████████████████████████| 1/1 [00:00<00:00, 10.67it/s]\n"
          ]
        },
        {
          "output_type": "stream",
          "name": "stdout",
          "text": [
            "Epoch 94: Validation loss = 1.3931069374084473, Validation accuracy: 0.6500000357627869\n"
          ]
        },
        {
          "output_type": "stream",
          "name": "stderr",
          "text": [
            "Training: 100%|█████████████████████████████████| 19/19 [00:03<00:00,  5.35it/s]\n",
            "Valid: 100%|██████████████████████████████████████| 1/1 [00:00<00:00, 11.64it/s]\n"
          ]
        },
        {
          "output_type": "stream",
          "name": "stdout",
          "text": [
            "Epoch 95: Validation loss = 1.3631789684295654, Validation accuracy: 0.6500000357627869\n"
          ]
        },
        {
          "output_type": "stream",
          "name": "stderr",
          "text": [
            "Training: 100%|█████████████████████████████████| 19/19 [00:03<00:00,  5.84it/s]\n",
            "Valid: 100%|██████████████████████████████████████| 1/1 [00:00<00:00, 10.76it/s]\n"
          ]
        },
        {
          "output_type": "stream",
          "name": "stdout",
          "text": [
            "Epoch 96: Validation loss = 1.4141521453857422, Validation accuracy: 0.6500000357627869\n"
          ]
        },
        {
          "output_type": "stream",
          "name": "stderr",
          "text": [
            "Training: 100%|█████████████████████████████████| 19/19 [00:03<00:00,  5.87it/s]\n",
            "Valid: 100%|██████████████████████████████████████| 1/1 [00:00<00:00, 10.89it/s]\n"
          ]
        },
        {
          "output_type": "stream",
          "name": "stdout",
          "text": [
            "Epoch 97: Validation loss = 1.4054460525512695, Validation accuracy: 0.6500000357627869\n"
          ]
        },
        {
          "output_type": "stream",
          "name": "stderr",
          "text": [
            "Training: 100%|█████████████████████████████████| 19/19 [00:03<00:00,  5.96it/s]\n",
            "Valid: 100%|██████████████████████████████████████| 1/1 [00:00<00:00,  8.96it/s]\n"
          ]
        },
        {
          "output_type": "stream",
          "name": "stdout",
          "text": [
            "Epoch 98: Validation loss = 1.4210631847381592, Validation accuracy: 0.6500000357627869\n"
          ]
        },
        {
          "output_type": "stream",
          "name": "stderr",
          "text": [
            "Training: 100%|█████████████████████████████████| 19/19 [00:03<00:00,  5.31it/s]\n",
            "Valid: 100%|██████████████████████████████████████| 1/1 [00:00<00:00, 11.05it/s]"
          ]
        },
        {
          "output_type": "stream",
          "name": "stdout",
          "text": [
            "Epoch 99: Validation loss = 1.287003755569458, Validation accuracy: 0.6500000357627869\n"
          ]
        },
        {
          "output_type": "stream",
          "name": "stderr",
          "text": [
            "\n"
          ]
        }
      ]
    },
    {
      "cell_type": "markdown",
      "source": [
        "# Testing"
      ],
      "metadata": {
        "id": "TtNgbQN-o1rp"
      }
    },
    {
      "cell_type": "code",
      "source": [
        "import torch\n",
        "from torch import nn, save, load\n",
        "from tqdm import tqdm\n",
        "from torch.optim import Adam\n",
        "from torch.utils.data import DataLoader\n",
        "from torchvision.datasets import ImageFolder\n",
        "import torchvision.transforms as transforms\n",
        "from torchmetrics.functional import accuracy\n",
        "from torchvision.transforms import ToTensor, Resize\n",
        "import numpy as np\n",
        "import os\n",
        "from PIL import Image\n",
        "import matplotlib.pyplot as plt\n",
        "\n",
        "# Thiết lập biến cần thiết\n",
        "train_dir = '/content/drive/MyDrive/dataset/playcards/train'\n",
        "test_dir = '/content/drive/MyDrive/dataset/playcards/test'\n",
        "valid_dir = '/content/drive/MyDrive/dataset/playcards/valid'\n",
        "NUM_WORKERS = os.cpu_count()\n",
        "BATCH_SIZE = 32\n",
        "IMG_SIZE = 224\n",
        "manual_transforms = transforms.Compose([\n",
        "    transforms.Resize((IMG_SIZE, IMG_SIZE)),\n",
        "    transforms.ToTensor(),\n",
        "])\n",
        "patch_size = 16\n",
        "CLASS = {\n",
        "    0: 'ace_of_clubs',\n",
        "    1: 'ace_of_diamonds',\n",
        "    2: 'ace_of_hearts',\n",
        "    3: 'ace_of_spades',\n",
        "}\n",
        "\n",
        "\n",
        "# Thiết lập thiết bị (GPU hoặc CPU)\n",
        "def setup_cuda():\n",
        "    torch.backends.cudnn.enabled = True\n",
        "    torch.backends.cudnn.benchmark = True\n",
        "    device = torch.device('cuda:0' if torch.cuda.is_available() else 'cpu')\n",
        "    return device\n",
        "\n",
        "\n",
        "device = setup_cuda()\n",
        "\n",
        "# Thiết lập các transform để xử lý ảnh\n",
        "manual_transforms = transforms.Compose([\n",
        "    transforms.Resize((IMG_SIZE, IMG_SIZE)),\n",
        "    transforms.ToTensor(),\n",
        "])\n",
        "\n",
        "\n",
        "# Hàm dự đoán kết quả cho một hình ảnh\n",
        "def predict_image(image_path, model, transform, class_names, device):\n",
        "    model.eval()\n",
        "    img = Image.open(image_path).convert('RGB')\n",
        "    img_tensor = transform(img).unsqueeze(0).to(device)\n",
        "    with torch.no_grad():\n",
        "        output = model(img_tensor)\n",
        "        _, predicted_class = torch.max(output, 1)\n",
        "    predicted_label = class_names[predicted_class.item()]\n",
        "    return img, predicted_label\n",
        "\n",
        "\n",
        "# Hàm chính để dự đoán các hình ảnh trong tập test\n",
        "def test_model():\n",
        "    # 1. Tải dữ liệu và lớp từ tập train\n",
        "    transform = transforms.Compose([Resize((224, 224)), ToTensor()])\n",
        "    train_dataset = ImageFolder(root=train_dir, transform=transform)\n",
        "    test_dataset = ImageFolder(root=test_dir, transform=transform)\n",
        "    # Get class names\n",
        "    class_names = train_dataset.classes\n",
        "\n",
        "    # 2. Tạo mô hình ViT và tải trạng thái từ checkpoint\n",
        "    model = Alexnet(\n",
        "        num_classes=len(class_names),\n",
        "    ).to(device)\n",
        "\n",
        "    folder_checkpoint = '/content/'  # Define the folder name\n",
        "    file_checkpoint = os.path.join(folder_checkpoint, 'epoch_8_acc_0.7500.pt')  # lay epoch cuoi cung\n",
        "    model.load_state_dict(torch.load(file_checkpoint, device))\n",
        "    print('Model loaded from checkpoint.')\n",
        "    # Ensure the output directory exists\n",
        "    output_dir = \"result\"\n",
        "    os.makedirs(output_dir, exist_ok=True)\n",
        "\n",
        "    # 3. Dự đoán kết quả cho mỗi hình ảnh trong tập test\n",
        "    for image_path in tqdm(test_dataset.imgs, desc='Testing'):\n",
        "        img, predicted_label = predict_image(image_path[0], model, manual_transforms, class_names, device)\n",
        "        # plt.imshow(img)\n",
        "        # plt.title(f'Predicted: {predicted_label}')\n",
        "        # plt.show()\n",
        "\n",
        "        # Convert the tensor image back to a PIL image if necessary\n",
        "        if isinstance(img, torch.Tensor):\n",
        "            img = transforms.ToPILImage()(img)\n",
        "\n",
        "        # Create a plot\n",
        "        fig, ax = plt.subplots()\n",
        "\n",
        "        # Set white background\n",
        "        fig.patch.set_facecolor('white')\n",
        "        ax.set_facecolor('white')\n",
        "\n",
        "        # Remove axis\n",
        "        ax.axis('off')\n",
        "\n",
        "        # Display the image\n",
        "        ax.imshow(img)\n",
        "\n",
        "        # Add the predicted label as the title\n",
        "        ax.set_title(f'Predicted: {predicted_label}', fontsize=12, pad=10)\n",
        "\n",
        "        # Save the figure\n",
        "        image_basename = os.path.basename(image_path[0])\n",
        "        image_name, image_ext = os.path.splitext(image_basename)\n",
        "        output_image_path = os.path.join(output_dir, f\"{image_name}_pred_{predicted_label}.png\")\n",
        "\n",
        "        plt.savefig(output_image_path, bbox_inches='tight', pad_inches=0.1)\n",
        "        plt.close(fig)\n",
        "\n",
        "\n",
        "if __name__ == '__main__':\n",
        "    test_model()"
      ],
      "metadata": {
        "colab": {
          "base_uri": "https://localhost:8080/"
        },
        "id": "1T8DMQapo7xf",
        "outputId": "b59fb23c-ee42-4307-a786-81f0215d8fcd"
      },
      "execution_count": null,
      "outputs": [
        {
          "output_type": "stream",
          "name": "stderr",
          "text": [
            "<ipython-input-6-6b2a8a065cfa>:80: FutureWarning: You are using `torch.load` with `weights_only=False` (the current default value), which uses the default pickle module implicitly. It is possible to construct malicious pickle data which will execute arbitrary code during unpickling (See https://github.com/pytorch/pytorch/blob/main/SECURITY.md#untrusted-models for more details). In a future release, the default value for `weights_only` will be flipped to `True`. This limits the functions that could be executed during unpickling. Arbitrary objects will no longer be allowed to be loaded via this mode unless they are explicitly allowlisted by the user via `torch.serialization.add_safe_globals`. We recommend you start setting `weights_only=True` for any use case where you don't have full control of the loaded file. Please open an issue on GitHub for any issues related to this experimental feature.\n",
            "  model.load_state_dict(torch.load(file_checkpoint, device))\n"
          ]
        },
        {
          "output_type": "stream",
          "name": "stdout",
          "text": [
            "Model loaded from checkpoint.\n"
          ]
        },
        {
          "output_type": "stream",
          "name": "stderr",
          "text": [
            "Testing: 100%|██████████| 20/20 [00:20<00:00,  1.02s/it]\n"
          ]
        }
      ]
    }
  ]
}
